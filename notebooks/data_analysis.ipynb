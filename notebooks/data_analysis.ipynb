{
 "cells": [
  {
   "cell_type": "markdown",
   "metadata": {},
   "source": [
    "# Análise de Dados - Pipeline DataOps\n",
    "\n",
    "Este notebook demonstra análise exploratória dos dados processados pelo pipeline ETL."
   ]
  },
  {
   "cell_type": "code",
   "execution_count": null,
   "metadata": {},
   "outputs": [],
   "source": [
    "import pandas as pd\n",
    "import numpy as np\n",
    "import matplotlib.pyplot as plt\n",
    "import seaborn as sns\n",
    "from datetime import datetime, timedelta\n",
    "import warnings\n",
    "warnings.filterwarnings('ignore')\n",
    "\n",
    "# Configuração dos gráficos\n",
    "plt.style.use('seaborn-v0_8')\n",
    "sns.set_palette(\"husl\")\n",
    "plt.rcParams['figure.figsize'] = (12, 8)"
   ]
  },
  {
   "cell_type": "markdown",
   "metadata": {},
   "source": [
    "## 1. Carregamento dos Dados"
   ]
  },
  {
   "cell_type": "code",
   "execution_count": null,
   "metadata": {},
   "outputs": [],
   "source": [
    "# Carregar dados processados\n",
    "try:\n",
    "    sales_df = pd.read_csv('../data/processed/sales_clean.csv')\n",
    "    customers_df = pd.read_csv('../data/processed/customers_clean.csv')\n",
    "    products_df = pd.read_csv('../data/processed/products_clean.csv')\n",
    "    \n",
    "    # Carregar resumos\n",
    "    daily_summary = pd.read_csv('../data/processed/daily_summary.csv')\n",
    "    product_summary = pd.read_csv('../data/processed/product_summary.csv')\n",
    "    customer_summary = pd.read_csv('../data/processed/customer_summary.csv')\n",
    "    \n",
    "    print(\"Dados carregados com sucesso!\")\n",
    "    print(f\"Vendas: {len(sales_df)} registros\")\n",
    "    print(f\"Clientes: {len(customers_df)} registros\")\n",
    "    print(f\"Produtos: {len(products_df)} registros\")\n",
    "    \n",
    "except FileNotFoundError as e:\n",
    "    print(f\"Erro ao carregar dados: {e}\")\n",
    "    print(\"Execute o pipeline ETL primeiro!\")"
   ]
  },
  {
   "cell_type": "markdown",
   "metadata": {},
   "source": [
    "## 2. Análise Exploratória de Vendas"
   ]
  },
  {
   "cell_type": "code",
   "execution_count": null,
   "metadata": {},
   "outputs": [],
   "source": [
    "# Estatísticas descritivas das vendas\n",
    "print(\"=== Estatísticas de Vendas ===\")\n",
    "print(sales_df[['quantity', 'unit_price', 'total_amount']].describe())"
   ]
  },
  {
   "cell_type": "code",
   "execution_count": null,
   "metadata": {},
   "outputs": [],
   "source": [
    "# Distribuição de vendas por categoria\n",
    "plt.figure(figsize=(15, 10))\n",
    "\n",
    "# Vendas por categoria de produto\n",
    "plt.subplot(2, 2, 1)\n",
    "category_sales = sales_df.groupby('category')['total_amount'].sum().sort_values(ascending=False)\n",
    "category_sales.plot(kind='bar')\n",
    "plt.title('Receita por Categoria de Produto')\n",
    "plt.xlabel('Categoria')\n",
    "plt.ylabel('Receita Total (R$)')\n",
    "plt.xticks(rotation=45)\n",
    "\n",
    "# Distribuição de valores de venda\n",
    "plt.subplot(2, 2, 2)\n",
    "plt.hist(sales_df['total_amount'], bins=30, alpha=0.7)\n",
    "plt.title('Distribuição de Valores de Venda')\n",
    "plt.xlabel('Valor da Venda (R$)')\n",
    "plt.ylabel('Frequência')\n",
    "\n",
    "# Vendas por categoria de valor\n",
    "plt.subplot(2, 2, 3)\n",
    "sales_df['sale_category'].value_counts().plot(kind='pie', autopct='%1.1f%%')\n",
    "plt.title('Distribuição por Categoria de Valor')\n",
    "\n",
    "# Vendas ao longo do tempo\n",
    "plt.subplot(2, 2, 4)\n",
    "sales_df['sale_date'] = pd.to_datetime(sales_df['sale_date'])\n",
    "daily_sales = sales_df.groupby(sales_df['sale_date'].dt.date)['total_amount'].sum()\n",
    "daily_sales.plot()\n",
    "plt.title('Vendas Diárias ao Longo do Tempo')\n",
    "plt.xlabel('Data')\n",
    "plt.ylabel('Receita (R$)')\n",
    "plt.xticks(rotation=45)\n",
    "\n",
    "plt.tight_layout()\n",
    "plt.show()"
   ]
  },
  {
   "cell_type": "markdown",
   "metadata": {},
   "source": [
    "## 3. Análise de Clientes"
   ]
  },
  {
   "cell_type": "code",
   "execution_count": null,
   "metadata": {},
   "outputs": [],
   "source": [
    "# Análise de segmentação de clientes\n",
    "plt.figure(figsize=(15, 5))\n",
    "\n",
    "# Distribuição de clientes por segmento\n",
    "plt.subplot(1, 3, 1)\n",
    "customers_df['customer_segment'].value_counts().plot(kind='bar')\n",
    "plt.title('Distribuição de Clientes por Segmento')\n",
    "plt.xlabel('Segmento')\n",
    "plt.ylabel('Número de Clientes')\n",
    "plt.xticks(rotation=45)\n",
    "\n",
    "# Clientes por cidade\n",
    "plt.subplot(1, 3, 2)\n",
    "top_cities = customers_df['city'].value_counts().head(10)\n",
    "top_cities.plot(kind='bar')\n",
    "plt.title('Top 10 Cidades por Número de Clientes')\n",
    "plt.xlabel('Cidade')\n",
    "plt.ylabel('Número de Clientes')\n",
    "plt.xticks(rotation=45)\n",
    "\n",
    "# Distribuição de emails válidos\n",
    "plt.subplot(1, 3, 3)\n",
    "email_validity = customers_df['is_valid_email'].value_counts()\n",
    "email_validity.plot(kind='pie', autopct='%1.1f%%', labels=['Email Inválido', 'Email Válido'])\n",
    "plt.title('Qualidade dos Emails')\n",
    "\n",
    "plt.tight_layout()\n",
    "plt.show()"
   ]
  },
  {
   "cell_type": "markdown",
   "metadata": {},
   "source": [
    "## 4. Análise de Produtos"
   ]
  },
  {
   "cell_type": "code",
   "execution_count": null,
   "metadata": {},
   "outputs": [],
   "source": [
    "# Top produtos por vendas\n",
    "plt.figure(figsize=(15, 10))\n",
    "\n",
    "# Top 10 produtos por receita\n",
    "plt.subplot(2, 2, 1)\n",
    "top_products_revenue = product_summary.nlargest(10, 'total_revenue')\n",
    "plt.barh(range(len(top_products_revenue)), top_products_revenue['total_revenue'])\n",
    "plt.yticks(range(len(top_products_revenue)), top_products_revenue['product_name'])\n",
    "plt.title('Top 10 Produtos por Receita')\n",
    "plt.xlabel('Receita Total (R$)')\n",
    "\n",
    "# Distribuição de margem de lucro\n",
    "plt.subplot(2, 2, 2)\n",
    "plt.hist(products_df['profit_margin'], bins=20, alpha=0.7)\n",
    "plt.title('Distribuição de Margem de Lucro')\n",
    "plt.xlabel('Margem de Lucro (%)')\n",
    "plt.ylabel('Número de Produtos')\n",
    "\n",
    "# Produtos por categoria de margem\n",
    "plt.subplot(2, 2, 3)\n",
    "products_df['margin_category'].value_counts().plot(kind='pie', autopct='%1.1f%%')\n",
    "plt.title('Distribuição por Categoria de Margem')\n",
    "\n",
    "# Relação preço vs quantidade vendida\n",
    "plt.subplot(2, 2, 4)\n",
    "product_price_qty = product_summary.merge(products_df[['product_id', 'unit_price']], on='product_id')\n",
    "plt.scatter(product_price_qty['unit_price'], product_price_qty['total_quantity'], alpha=0.6)\n",
    "plt.title('Preço vs Quantidade Vendida')\n",
    "plt.xlabel('Preço Unitário (R$)')\n",
    "plt.ylabel('Quantidade Total Vendida')\n",
    "\n",
    "plt.tight_layout()\n",
    "plt.show()"
   ]
  },
  {
   "cell_type": "markdown",
   "metadata": {},
   "source": [
    "## 5. Análise Temporal"
   ]
  },
  {
   "cell_type": "code",
   "execution_count": null,
   "metadata": {},
   "outputs": [],
   "source": [
    "# Preparar dados temporais\n",
    "sales_df['sale_date'] = pd.to_datetime(sales_df['sale_date'])\n",
    "sales_df['day_name'] = sales_df['sale_date'].dt.day_name()\n",
    "sales_df['hour'] = sales_df['sale_date'].dt.hour\n",
    "\n",
    "plt.figure(figsize=(15, 10))\n",
    "\n",
    "# Vendas por dia da semana\n",
    "plt.subplot(2, 2, 1)\n",
    "day_order = ['Monday', 'Tuesday', 'Wednesday', 'Thursday', 'Friday', 'Saturday', 'Sunday']\n",
    "daily_sales_pattern = sales_df.groupby('day_name')['total_amount'].sum().reindex(day_order)\n",
    "daily_sales_pattern.plot(kind='bar')\n",
    "plt.title('Vendas por Dia da Semana')\n",
    "plt.xlabel('Dia da Semana')\n",
    "plt.ylabel('Receita Total (R$)')\n",
    "plt.xticks(rotation=45)\n",
    "\n",
    "# Vendas por hora do dia\n",
    "plt.subplot(2, 2, 2)\n",
    "hourly_sales = sales_df.groupby('hour')['total_amount'].sum()\n",
    "hourly_sales.plot()\n",
    "plt.title('Vendas por Hora do Dia')\n",
    "plt.xlabel('Hora')\n",
    "plt.ylabel('Receita Total (R$)')\n",
    "\n",
    "# Vendas mensais\n",
    "plt.subplot(2, 2, 3)\n",
    "monthly_sales = sales_df.groupby(sales_df['sale_date'].dt.to_period('M'))['total_amount'].sum()\n",
    "monthly_sales.plot(kind='bar')\n",
    "plt.title('Vendas Mensais')\n",
    "plt.xlabel('Mês')\n",
    "plt.ylabel('Receita Total (R$)')\n",
    "plt.xticks(rotation=45)\n",
    "\n",
    "# Trend de vendas\n",
    "plt.subplot(2, 2, 4)\n",
    "daily_trend = sales_df.groupby(sales_df['sale_date'].dt.date)['total_amount'].sum()\n",
    "daily_trend.plot()\n",
    "# Adicionar linha de tendência\n",
    "z = np.polyfit(range(len(daily_trend)), daily_trend.values, 1)\n",
    "p = np.poly1d(z)\n",
    "plt.plot(daily_trend.index, p(range(len(daily_trend))), \"r--\", alpha=0.8)\n",
    "plt.title('Tendência de Vendas Diárias')\n",
    "plt.xlabel('Data')\n",
    "plt.ylabel('Receita (R$)')\n",
    "plt.xticks(rotation=45)\n",
    "\n",
    "plt.tight_layout()\n",
    "plt.show()"
   ]
  },
  {
   "cell_type": "markdown",
   "metadata": {},
   "source": [
    "## 6. KPIs e Métricas de Negócio"
   ]
  },
  {
   "cell_type": "code",
   "execution_count": null,
   "metadata": {},
   "outputs": [],
   "source": [
    "# Calcular KPIs principais\n",
    "total_revenue = sales_df['total_amount'].sum()\n",
    "total_orders = len(sales_df)\n",
    "unique_customers = sales_df['customer_id'].nunique()\n",
    "avg_order_value = total_revenue / total_orders\n",
    "revenue_per_customer = total_revenue / unique_customers\n",
    "\n",
    "print(\"=== KPIs Principais ===\")\n",
    "print(f\"Receita Total: R$ {total_revenue:,.2f}\")\n",
    "print(f\"Total de Pedidos: {total_orders:,}\")\n",
    "print(f\"Clientes Únicos: {unique_customers:,}\")\n",
    "print(f\"Ticket Médio: R$ {avg_order_value:,.2f}\")\n",
    "print(f\"Receita por Cliente: R$ {revenue_per_customer:,.2f}\")\n",
    "\n",
    "# Análise de cohorte simplificada\n",
    "customer_first_purchase = sales_df.groupby('customer_id')['sale_date'].min().reset_index()\n",
    "customer_first_purchase.columns = ['customer_id', 'first_purchase_date']\n",
    "\n",
    "# Mesclar com dados de vendas\n",
    "sales_with_cohort = sales_df.merge(customer_first_purchase, on='customer_id')\n",
    "sales_with_cohort['first_purchase_month'] = sales_with_cohort['first_purchase_date'].dt.to_period('M')\n",
    "sales_with_cohort['purchase_month'] = sales_with_cohort['sale_date'].dt.to_period('M')\n",
    "\n",
    "print(\"\\n=== Análise de Cohorte ===\")\n",
    "cohort_sizes = sales_with_cohort.groupby('first_purchase_month')['customer_id'].nunique()\n",
    "print(\"Tamanho das cohortes por mês de primeira compra:\")\n",
    "print(cohort_sizes)"
   ]
  },
  {
   "cell_type": "markdown",
   "metadata": {},
   "source": [
    "## 7. Insights e Recomendações"
   ]
  },
  {
   "cell_type": "code",
   "execution_count": null,
   "metadata": {},
   "outputs": [],
   "source": [
    "print(\"=== INSIGHTS E RECOMENDAÇÕES ===\")\n",
    "print()\n",
    "\n",
    "# Análise de categorias\n",
    "best_category = category_sales.index[0]\n",
    "best_category_revenue = category_sales.iloc[0]\n",
    "print(f\"1. CATEGORIA LÍDER: {best_category}\")\n",
    "print(f\"   - Receita: R$ {best_category_revenue:,.2f}\")\n",
    "print(f\"   - Representa {(best_category_revenue/total_revenue)*100:.1f}% da receita total\")\n",
    "print()\n",
    "\n",
    "# Análise de produtos\n",
    "best_product = top_products_revenue.iloc[0]\n",
    "print(f\"2. PRODUTO MAIS VENDIDO: {best_product['product_name']}\")\n",
    "print(f\"   - Receita: R$ {best_product['total_revenue']:,.2f}\")\n",
    "print(f\"   - Vendas: {best_product['total_sales']} unidades\")\n",
    "print()\n",
    "\n",
    "# Análise de clientes\n",
    "active_customers = customers_df[customers_df['customer_segment'] == 'Active'].shape[0]\n",
    "total_customers = len(customers_df)\n",
    "print(f\"3. SEGMENTAÇÃO DE CLIENTES:\")\n",
    "print(f\"   - Clientes ativos: {active_customers} ({(active_customers/total_customers)*100:.1f}%)\")\n",
    "print(f\"   - Oportunidade de reativação para clientes inativos\")\n",
    "print()\n",
    "\n",
    "# Análise temporal\n",
    "best_day = daily_sales_pattern.idxmax()\n",
    "print(f\"4. PADRÃO TEMPORAL:\")\n",
    "print(f\"   - Melhor dia da semana: {best_day}\")\n",
    "print(f\"   - Recomendação: Concentrar campanhas de marketing neste dia\")\n",
    "print()\n",
    "\n",
    "print(\"=== PRÓXIMOS PASSOS SUGERIDOS ===\")\n",
    "print(\"1. Implementar análise de cesta de mercado\")\n",
    "print(\"2. Desenvolver modelo de recomendação de produtos\")\n",
    "print(\"3. Criar campanhas direcionadas por segmento de cliente\")\n",
    "print(\"4. Monitorar métricas de retenção de clientes\")\n",
    "print(\"5. Análise de sazonalidade com mais dados históricos\")"
   ]
  }
 ],
 "metadata": {
  "kernelspec": {
   "display_name": "Python 3",
   "language": "python",
   "name": "python3"
  },
  "language_info": {
   "codemirror_mode": {
    "name": "ipython",
    "version": 3
   },
   "file_extension": ".py",
   "mimetype": "text/x-python",
   "name": "python",
   "nbconvert_exporter": "python",
   "pygments_lexer": "ipython3",
   "version": "3.8.5"
  }
 },
 "nbformat": 4,
 "nbformat_minor": 4
}